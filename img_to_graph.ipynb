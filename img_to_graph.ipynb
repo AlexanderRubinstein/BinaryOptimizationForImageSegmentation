{
 "cells": [
  {
   "cell_type": "code",
   "execution_count": 45,
   "metadata": {},
   "outputs": [],
   "source": [
    "import numpy as np\n",
    "import matplotlib.pyplot as plt\n",
    "import skimage\n",
    "from numba import njit\n",
    "import cvxpy as cp\n",
    "from cvxpy.problems.problem import Problem, Minimize\n",
    "\n",
    "%matplotlib inline"
   ]
  },
  {
   "cell_type": "code",
   "execution_count": 5,
   "metadata": {},
   "outputs": [],
   "source": [
    "img = plt.imread('flower.jpg')"
   ]
  },
  {
   "cell_type": "code",
   "execution_count": 6,
   "metadata": {},
   "outputs": [],
   "source": [
    "h, w = 40, 50\n",
    "img = skimage.transform.resize(img, (h, w))\n",
    "img = np.clip(img, 0, 1)"
   ]
  },
  {
   "cell_type": "code",
   "execution_count": 7,
   "metadata": {},
   "outputs": [],
   "source": [
    "f_idx = np.array([(20, 18), (20, 30), (10, 20)]) #foreground idxs\n",
    "b_idx = np.array([(5, 5), (35,35), (10, 40), (30,10)]) #background idxs"
   ]
  },
  {
   "cell_type": "code",
   "execution_count": 8,
   "metadata": {
    "scrolled": true
   },
   "outputs": [
    {
     "data": {
      "text/plain": [
       "<matplotlib.collections.PathCollection at 0x1c1f61cd50>"
      ]
     },
     "execution_count": 8,
     "metadata": {},
     "output_type": "execute_result"
    },
    {
     "data": {
      "image/png": "[encoded data removed]",
      "text/plain": [
       "<Figure size 432x288 with 1 Axes>"
      ]
     },
     "metadata": {
      "needs_background": "light"
     },
     "output_type": "display_data"
    }
   ],
   "source": [
    "plt.imshow(img)\n",
    "plt.scatter(f_idx[:, 1], f_idx[:, 0])\n",
    "plt.scatter(b_idx[:, 1], b_idx[:, 0])"
   ]
  },
  {
   "cell_type": "code",
   "execution_count": 29,
   "metadata": {},
   "outputs": [],
   "source": [
    "scale_coord = 1.4\n",
    "xx = np.arange(img.shape[1], dtype='d')/img.shape[1]/scale_coord\n",
    "yy = np.arange(img.shape[0], dtype='d')/img.shape[0]/scale_coord\n",
    "coords = np.meshgrid(xx, yy)"
   ]
  },
  {
   "cell_type": "code",
   "execution_count": 30,
   "metadata": {},
   "outputs": [],
   "source": [
    "new_img = np.stack([img[:,:,0], img[:,:,1], img[:,:,2], coords[0], coords[1]], axis=2) #stack coordinate and color values"
   ]
  },
  {
   "cell_type": "code",
   "execution_count": 37,
   "metadata": {},
   "outputs": [],
   "source": [
    "@njit\n",
    "def get_adjacency_matrix(img):\n",
    "    \"\"\"\n",
    "    Compute adjacency matrix for given image with linear kernel.\n",
    "    njit for accelerating speed\n",
    "    \n",
    "    Parameters:\n",
    "    --------\n",
    "    img : (h, w, ...) array_like\n",
    "        Input image for computing\n",
    "    \n",
    "    Returns:\n",
    "    --------\n",
    "    A : (h*w, h*w) array_like\n",
    "        Adjacency matrix of img\n",
    "    \n",
    "    \"\"\"\n",
    "    N = img.shape[0]*img.shape[1]\n",
    "    X = img.reshape((N, -1))\n",
    "    S = X@X.T\n",
    "    b = np.diag(S)\n",
    "    A = b.reshape(1, -1) - 2*S + b.reshape(-1, 1) #||x_i-x_j||^2=(x_i, x_i)-2*(x_i, x_j)+(x_j, x_j)\n",
    "    return A\n",
    "\n",
    "def coord_to_flatten_idx(y, x, h=h, w=w):\n",
    "    \"\"\"\n",
    "    By coordinate of pixel of original image return single index of flatten array\n",
    "    \"\"\"\n",
    "    assert y < h and x < w, 'Wrond indexes'\n",
    "    return y*w+x\n",
    "\n",
    "def flatten_idx_to_coors(idx, h=h, w=w):\n",
    "    \"\"\"\n",
    "    By single index of flatten array return coordinate of pixel of original image\n",
    "    \"\"\"\n",
    "    assert idx < h*w, 'Wrong index'\n",
    "    return (idx//h, idx%w)"
   ]
  },
  {
   "cell_type": "code",
   "execution_count": 40,
   "metadata": {},
   "outputs": [],
   "source": [
    "N = new_img.shape[0]*new_img.shape[1]\n",
    "A = get_adjacency_matrix(new_img)\n",
    "\n",
    "D = np.diag(A.sum(axis=0)) #Degree matrix\n",
    "L = np.diag(A.sum(axis=0)) - A #Laplacian matrix"
   ]
  },
  {
   "cell_type": "code",
   "execution_count": null,
   "metadata": {},
   "outputs": [],
   "source": []
  },
  {
   "cell_type": "code",
   "execution_count": 46,
   "metadata": {},
   "outputs": [],
   "source": [
    "new_f_idx = [coord_to_flatten_idx(*f_idx[i]) for i in range(f_idx.shape[0])]\n",
    "new_b_idx = [coord_to_flatten_idx(*b_idx[i]) for i in range(b_idx.shape[0])]\n",
    "\n",
    "I = np.eye(N)\n",
    "e = np.ones(N)\n",
    "\n",
    "I_f = np.zeros_like(I)\n",
    "I_b = np.zeros_like(I)\n",
    "I_f[new_f_idx, new_f_idx] = 1 \n",
    "I_b[new_b_idx, new_b_idx] = 1\n",
    "\n",
    "e_f = np.zeros_like(e)\n",
    "e_b = np.zeros_like(e)\n",
    "e_f[new_f_idx] = 1\n",
    "e_b[new_b_idx] = -1\n",
    "\n",
    "\n",
    "x = cp.Variable(shape=(N,))\n",
    "constraints = [I_f@x == e_f, I_b@x == e_b, I@x <= e, I@x >= -e]"
   ]
  },
  {
   "cell_type": "code",
   "execution_count": 43,
   "metadata": {},
   "outputs": [
    {
     "data": {
      "text/plain": [
       "6285.673664495265"
      ]
     },
     "execution_count": 43,
     "metadata": {},
     "output_type": "execute_result"
    }
   ],
   "source": [
    "objective = cp.Minimize(cp.quad_form(x, L))\n",
    "problem = cp.Problem(objective, constraints) \n",
    "\n",
    "problem.solve()"
   ]
  },
  {
   "cell_type": "code",
   "execution_count": 44,
   "metadata": {},
   "outputs": [
    {
     "data": {
      "text/plain": [
       "<matplotlib.image.AxesImage at 0x1c2fea6050>"
      ]
     },
     "execution_count": 44,
     "metadata": {},
     "output_type": "execute_result"
    },
    {
     "data": {
      "image/png": "[encoded data removed]",
      "text/plain": [
       "<Figure size 432x288 with 1 Axes>"
      ]
     },
     "metadata": {
      "needs_background": "light"
     },
     "output_type": "display_data"
    }
   ],
   "source": [
    "solution = x.value\n",
    "\n",
    "solution = solution > x.value.mean()\n",
    "\n",
    "plt.imshow(np.clip(solution.reshape(h, w), 0, 1))"
   ]
  },
  {
   "cell_type": "code",
   "execution_count": null,
   "metadata": {},
   "outputs": [],
   "source": []
  },
  {
   "cell_type": "code",
   "execution_count": null,
   "metadata": {},
   "outputs": [],
   "source": []
  },
  {
   "cell_type": "code",
   "execution_count": null,
   "metadata": {},
   "outputs": [],
   "source": []
  },
  {
   "cell_type": "code",
   "execution_count": null,
   "metadata": {},
   "outputs": [],
   "source": []
  },
  {
   "cell_type": "code",
   "execution_count": null,
   "metadata": {},
   "outputs": [],
   "source": []
  }
 ],
 "metadata": {
  "kernelspec": {
   "display_name": "Python 3",
   "language": "python",
   "name": "python3"
  },
  "language_info": {
   "codemirror_mode": {
    "name": "ipython",
    "version": 3
   },
   "file_extension": ".py",
   "mimetype": "text/x-python",
   "name": "python",
   "nbconvert_exporter": "python",
   "pygments_lexer": "ipython3",
   "version": "3.7.4"
  }
 },
 "nbformat": 4,
 "nbformat_minor": 2
}
