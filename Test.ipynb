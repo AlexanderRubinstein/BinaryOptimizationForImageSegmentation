{
 "cells": [
  {
   "cell_type": "code",
   "execution_count": 1,
   "metadata": {},
   "outputs": [],
   "source": [
    "import numpy as np\n",
    "\n",
    "from utils import unnormalized_Laplacian\n",
    "from sdp import SDP_relaxation\n",
    "from mpec import MPEC_EPM"
   ]
  },
  {
   "cell_type": "code",
   "execution_count": 2,
   "metadata": {},
   "outputs": [],
   "source": [
    "A = np.array([[0, 3, 2, 0, 0, 0],\n",
    "              [3, 0, 4, 0, 0, 0],\n",
    "              [2, 4, 0, 0, 0, 0],\n",
    "              [0, 0, 0, 0, 4, 4],\n",
    "              [0, 0, 0, 4, 0, 2],\n",
    "              [0, 0, 0, 4, 2, 0]])"
   ]
  },
  {
   "cell_type": "code",
   "execution_count": 3,
   "metadata": {},
   "outputs": [
    {
     "data": {
      "text/plain": [
       "32.0"
      ]
     },
     "execution_count": 3,
     "metadata": {},
     "output_type": "execute_result"
    }
   ],
   "source": [
    "x_opt = SDP_relaxation(unnormalized_Laplacian(A), options={'maxiter': 10, 'disp': False})\n",
    "np.dot(np.dot(x_opt, unnormalized_Laplacian(A)), x_opt)"
   ]
  },
  {
   "cell_type": "code",
   "execution_count": 4,
   "metadata": {},
   "outputs": [
    {
     "data": {
      "text/plain": [
       "array([ 1.,  1.,  1.,  1., -1., -1.])"
      ]
     },
     "execution_count": 4,
     "metadata": {},
     "output_type": "execute_result"
    }
   ],
   "source": [
    "x_opt"
   ]
  },
  {
   "cell_type": "code",
   "execution_count": 6,
   "metadata": {},
   "outputs": [
    {
     "data": {
      "text/plain": [
       "-4.440892098500627e-16"
      ]
     },
     "execution_count": 6,
     "metadata": {},
     "output_type": "execute_result"
    }
   ],
   "source": [
    "a = np.zeros((A.shape[0], ))\n",
    "b = 0\n",
    "l = -np.ones((A.shape[0], ))\n",
    "l[0] = 1\n",
    "u = np.ones((A.shape[0], ))\n",
    "u[-1] = -1\n",
    "x_opt = MPEC_EPM(unnormalized_Laplacian(A), a, b, l, u, options={'maxiter': 20})\n",
    "np.dot(np.dot(x_opt, unnormalized_Laplacian(A)), x_opt)"
   ]
  },
  {
   "cell_type": "code",
   "execution_count": 7,
   "metadata": {},
   "outputs": [
    {
     "data": {
      "text/plain": [
       "array([ 1.,  1.,  1., -1., -1., -1.])"
      ]
     },
     "execution_count": 7,
     "metadata": {},
     "output_type": "execute_result"
    }
   ],
   "source": [
    "x_opt"
   ]
  }
 ],
 "metadata": {
  "kernelspec": {
   "display_name": "Python 3",
   "language": "python",
   "name": "python3"
  },
  "language_info": {
   "codemirror_mode": {
    "name": "ipython",
    "version": 3
   },
   "file_extension": ".py",
   "mimetype": "text/x-python",
   "name": "python",
   "nbconvert_exporter": "python",
   "pygments_lexer": "ipython3",
   "version": "3.7.3"
  }
 },
 "nbformat": 4,
 "nbformat_minor": 2
}
